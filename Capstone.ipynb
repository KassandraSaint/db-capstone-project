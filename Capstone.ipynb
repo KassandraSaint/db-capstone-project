{
 "cells": [
  {
   "cell_type": "code",
   "execution_count": 1,
   "id": "598b7418-97e4-47cc-bce0-bc2246a479c6",
   "metadata": {},
   "outputs": [
    {
     "name": "stdout",
     "output_type": "stream",
     "text": [
      "Requirement already satisfied: mysql-connector-python in c:\\users\\kassa\\appdata\\local\\programs\\python\\python311\\lib\\site-packages (8.1.0)\n",
      "Requirement already satisfied: protobuf<=4.21.12,>=4.21.1 in c:\\users\\kassa\\appdata\\local\\programs\\python\\python311\\lib\\site-packages (from mysql-connector-python) (4.21.12)\n"
     ]
    }
   ],
   "source": [
    "!pip install mysql-connector-python"
   ]
  },
  {
   "cell_type": "code",
   "execution_count": 36,
   "id": "547eacaf-35c1-45fe-940d-de3f0745d1ea",
   "metadata": {},
   "outputs": [],
   "source": [
    "import mysql.connector as connector"
   ]
  },
  {
   "cell_type": "code",
   "execution_count": 37,
   "id": "d2111598-2dfc-458b-bcbc-35dbf7a059e5",
   "metadata": {},
   "outputs": [],
   "source": [
    "connection = connector.connect(user='root', password='1234', db = 'littlelemondb')"
   ]
  },
  {
   "cell_type": "code",
   "execution_count": 38,
   "id": "60d08356-8208-4039-a32e-a8eed823a859",
   "metadata": {},
   "outputs": [],
   "source": [
    "cursor = connection.cursor()"
   ]
  },
  {
   "cell_type": "code",
   "execution_count": 39,
   "id": "576f2834-3028-49fd-94d8-0dec527356fa",
   "metadata": {},
   "outputs": [],
   "source": [
    "show_tables_query = \"\"\"SHOW TABLES\"\"\""
   ]
  },
  {
   "cell_type": "code",
   "execution_count": 40,
   "id": "0fdb0394-3306-4b37-a88b-84849c006f2e",
   "metadata": {},
   "outputs": [],
   "source": [
    "cursor.execute(show_tables_query)"
   ]
  },
  {
   "cell_type": "code",
   "execution_count": 41,
   "id": "8ac7ae84-9646-460a-b844-f008e9e7eaf2",
   "metadata": {},
   "outputs": [
    {
     "name": "stdout",
     "output_type": "stream",
     "text": [
      "('bookings',)\n",
      "('customer',)\n",
      "('deliverystats',)\n",
      "('menu',)\n",
      "('menuitem',)\n",
      "('orderitems',)\n",
      "('orders',)\n",
      "('orderstats',)\n",
      "('staff',)\n"
     ]
    }
   ],
   "source": [
    "for table in cursor:\n",
    "    print(table)"
   ]
  },
  {
   "cell_type": "code",
   "execution_count": 42,
   "id": "ce8e64ff-46f5-4fd6-bc38-2aa7ceffe444",
   "metadata": {},
   "outputs": [],
   "source": [
    "detail = \"\"\"\n",
    "SELECT Customer.CustomerName, Customer.CustomerPhone, Orders.TotalCost\n",
    "FROM Customer JOIN Orders ON Customer.CustomerID = Orders.CustomerID\n",
    "WHERE TotalCost > 60\n",
    "\"\"\""
   ]
  },
  {
   "cell_type": "code",
   "execution_count": 43,
   "id": "e46f16e9-b623-4b40-8458-90724d28f6e1",
   "metadata": {},
   "outputs": [],
   "source": [
    "cursor.execute(detail)"
   ]
  },
  {
   "cell_type": "code",
   "execution_count": 44,
   "id": "665a3414-bc27-4d84-9129-30b638173e87",
   "metadata": {},
   "outputs": [],
   "source": [
    "result = cursor.fetchall()"
   ]
  },
  {
   "cell_type": "code",
   "execution_count": 45,
   "id": "2a44b01a-c0e6-4143-a8f0-84129808df47",
   "metadata": {},
   "outputs": [],
   "source": [
    "cols = cursor.column_names"
   ]
  },
  {
   "cell_type": "code",
   "execution_count": 46,
   "id": "5f75aef4-6c68-4ee9-9ff9-a3c8216e08ab",
   "metadata": {},
   "outputs": [
    {
     "name": "stdout",
     "output_type": "stream",
     "text": [
      "('CustomerName', 'CustomerPhone', 'TotalCost')\n",
      "('Vanessa McCarthy', '757536378', Decimal('100'))\n",
      "('Marcos Romero', '757536379', Decimal('150'))\n",
      "('Hiroki Yamane', '757536376', Decimal('200'))\n",
      "('Anna Iversen', '757536375', Decimal('150'))\n",
      "('Diana Pinto', '757536374', Decimal('230'))\n",
      "('Matthew Anders', '5614836453', Decimal('180'))\n",
      "('Kassandra Saint', '5613604241', Decimal('310'))\n",
      "('Dmytro Salko', '5614609421', Decimal('90'))\n",
      "('Marcos Romero', '757536379', Decimal('120'))\n",
      "('Kassandra Saint', '5613604241', Decimal('212'))\n",
      "('Dmytro Salko', '5614609421', Decimal('90'))\n",
      "('Matthew Anders', '5614836453', Decimal('400'))\n"
     ]
    }
   ],
   "source": [
    "print(cols)\n",
    "for i in result:\n",
    "    print(i)"
   ]
  },
  {
   "cell_type": "code",
   "execution_count": 35,
   "id": "4c4200a2-8f7a-4bf8-a427-a5a639e61816",
   "metadata": {},
   "outputs": [
    {
     "data": {
      "text/plain": [
       "True"
      ]
     },
     "execution_count": 35,
     "metadata": {},
     "output_type": "execute_result"
    }
   ],
   "source": [
    "cursor.close()"
   ]
  },
  {
   "cell_type": "code",
   "execution_count": null,
   "id": "29385bf5-2e33-423c-977c-8def6d160c69",
   "metadata": {},
   "outputs": [],
   "source": []
  }
 ],
 "metadata": {
  "kernelspec": {
   "display_name": "Python 3 (ipykernel)",
   "language": "python",
   "name": "python3"
  },
  "language_info": {
   "codemirror_mode": {
    "name": "ipython",
    "version": 3
   },
   "file_extension": ".py",
   "mimetype": "text/x-python",
   "name": "python",
   "nbconvert_exporter": "python",
   "pygments_lexer": "ipython3",
   "version": "3.11.4"
  }
 },
 "nbformat": 4,
 "nbformat_minor": 5
}
